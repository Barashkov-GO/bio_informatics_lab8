{
 "cells": [
  {
   "cell_type": "code",
   "execution_count": null,
   "metadata": {
    "collapsed": true,
    "pycharm": {
     "is_executing": true
    }
   },
   "outputs": [],
   "source": [
    "import string\n",
    "from copy import deepcopy\n",
    "from datetime import datetime\n",
    "\n",
    "import blosum as bl\n",
    "import numpy as np\n",
    "\n",
    "from threading import Thread\n",
    "\n",
    "from multiprocessing.pool import ThreadPool"
   ]
  },
  {
   "cell_type": "code",
   "execution_count": null,
   "outputs": [],
   "source": [
    "def score_fun(a: str, b: str, bl_matr):\n",
    "    return bl_matr[a + b]\n",
    "\n",
    "def smith_waterman(seq1: str, seq2: str, gap_score: int = -10):\n",
    "    m, n = len(seq1) + 1, len(seq2) + 1\n",
    "\n",
    "    blosum_matrix = bl.BLOSUM(62)\n",
    "    matrix = np.zeros((m, n))\n",
    "    for i in range(1, m):\n",
    "        for j in range(1, n):\n",
    "            matrix[i][j] = max(matrix[i - 1][j - 1] + score_fun(seq1[i - 1], seq2[j - 1], blosum_matrix),\n",
    "                               matrix[i - 1][j] + gap_score,\n",
    "                               matrix[i][j - 1] + gap_score,\n",
    "                               0)\n",
    "    aln1 = \"\"\n",
    "    aln2 = \"\"\n",
    "\n",
    "    max_pos = (0, 0)\n",
    "    for i in range(matrix.shape[0]):\n",
    "        for j in range(matrix.shape[1]):\n",
    "            if matrix[i][j] > matrix[max_pos[0]][max_pos[1]]:\n",
    "                max_pos = (i, j)\n",
    "\n",
    "    score = matrix[max_pos[0]][max_pos[1]]\n",
    "    i = max_pos[0]\n",
    "    j = max_pos[1]\n",
    "\n",
    "\n",
    "    while matrix[i][j] != 0 and (i > 0 or j > 0):\n",
    "        a, b = '-', '-'\n",
    "        # (A, B)\n",
    "        if i > 0 and j > 0 and matrix[i][j] == matrix[i - 1][j - 1] + score_fun(seq1[i - 1], seq2[j - 1], blosum_matrix):\n",
    "            a = seq1[i - 1]\n",
    "            b = seq2[j - 1]\n",
    "            i -= 1\n",
    "            j -= 1\n",
    "\n",
    "        # (A, -)\n",
    "        elif i > 0 and matrix[i][j] == matrix[i - 1][j] + gap_score:\n",
    "            a = seq1[i - 1]\n",
    "            i -= 1\n",
    "\n",
    "        # (-, A)\n",
    "        elif j > 0 and matrix[i][j] == matrix[i][j - 1] + gap_score:\n",
    "            b = seq2[j - 1]\n",
    "            j -= 1\n",
    "\n",
    "        aln1 += a\n",
    "        aln2 += b\n",
    "    #\n",
    "    return aln1[::-1], aln2[::-1], score\n"
   ],
   "metadata": {
    "collapsed": false,
    "pycharm": {
     "is_executing": true
    }
   }
  },
  {
   "cell_type": "markdown",
   "source": [
    "Вход: слово длины 4 по дефолту но с изменением, нуклеотидные последовательности,\n",
    "ВЫход: упорядоченный список диагоналей с наибольшим числом совпадений\n",
    "сравнение индексов (длина слова, последовательности)"
   ],
   "metadata": {
    "collapsed": false
   }
  },
  {
   "cell_type": "code",
   "execution_count": null,
   "outputs": [],
   "source": [
    "def to_map(seq: string, k: int):\n",
    "    dict = {}\n",
    "    for i in range(len(seq) - k + 1):\n",
    "        key = seq[i : i + k]\n",
    "        if dict.get(key) is None:\n",
    "            dict[key] = []\n",
    "        dict[key].append(i)\n",
    "    return dict"
   ],
   "metadata": {
    "collapsed": false,
    "pycharm": {
     "is_executing": true
    }
   }
  },
  {
   "cell_type": "code",
   "execution_count": null,
   "outputs": [],
   "source": [
    "def sub_maps_diff_pos(map_1, map_2):\n",
    "    dist = {}\n",
    "    for k1 in map_1.keys(): #k1 - 'AA'; val1 - [1, 2, 3]\n",
    "        if map_2.get(k1) is None:\n",
    "            continue\n",
    "\n",
    "        for pos1 in map_1[k1]:\n",
    "            for pos2 in map_2[k1]:\n",
    "                delta = pos2 - pos1\n",
    "                if dist.get(delta) is None:\n",
    "                    dist[delta] = []\n",
    "                dist[delta].append(pos1)\n",
    "\n",
    "\n",
    "    res = []\n",
    "    for gap in dist:\n",
    "        li = dist[gap]\n",
    "        res.append(Diag(convert_diag_to_xy(gap, li)))\n",
    "\n",
    "    return res\n",
    "\n",
    "def cutt_off(dist, count=1):\n",
    "    res = {}\n",
    "    for key in dist.keys():\n",
    "        if len(dist[key]) > count:\n",
    "            res[key] = dist[key]\n",
    "    return res\n"
   ],
   "metadata": {
    "collapsed": false,
    "pycharm": {
     "is_executing": true
    }
   }
  },
  {
   "cell_type": "code",
   "execution_count": null,
   "outputs": [],
   "source": [
    "def sub_maps(map_1, map_2):\n",
    "    # dict[subsequence] = set(distance(subsequence))\n",
    "    dist = {}\n",
    "\n",
    "    for k1 in map_1.keys():\n",
    "        if map_2.get(k1) is None:\n",
    "            continue\n",
    "        if dist.get(k1) is None:\n",
    "            dist[k1] = []\n",
    "        for pos1 in map_1[k1]:\n",
    "            for pos2 in map_2[k1]:\n",
    "                dist[k1].append(pos2 - pos1)\n",
    "    return dist"
   ],
   "metadata": {
    "collapsed": false,
    "pycharm": {
     "is_executing": true
    }
   }
  },
  {
   "cell_type": "code",
   "execution_count": null,
   "outputs": [],
   "source": [
    "def convert_to_matrix(diffs, n1, n2):\n",
    "    res = np.zeros((n1, n2))\n",
    "    for gap in diffs:\n",
    "        for i, pos1 in enumerate(diffs[gap]):\n",
    "            pos2 = pos1 + gap\n",
    "            res[pos1][pos2] = 1\n",
    "    return res\n"
   ],
   "metadata": {
    "collapsed": false,
    "pycharm": {
     "is_executing": true
    }
   }
  },
  {
   "cell_type": "code",
   "execution_count": null,
   "outputs": [],
   "source": [
    "class Diag:\n",
    "    def is_straight(self):\n",
    "        return (self.y_max - self.y_min) == (self.x_max - self.x_min)\n",
    "\n",
    "    def __init__(self, li):\n",
    "        self.x_min = li[0]\n",
    "        self.y_min = li[1]\n",
    "        self.x_max = li[2]\n",
    "        self.y_max = li[3]\n",
    "\n",
    "    def __add__(self, diag):\n",
    "        return Diag([min(self.x_min, diag.x_min), min(self.y_min, diag.y_min), max(diag.x_max, self.x_max), max(diag.y_max, self.y_max)])\n",
    "\n",
    "    def __len__(self):\n",
    "        return self.x_max - self.x_min + self.y_max - self.y_min\n",
    "\n",
    "    def to_positions(self):\n",
    "        return self.x_min, self.y_min, self.x_max, self.y_max\n",
    "\n",
    "    def __getitem__(self, item):\n",
    "        x = self.x_min + item\n",
    "        y = self.y_min + item\n",
    "        if x > self.x_max or y > self.y_max:\n",
    "            raise KeyError\n",
    "        return Diag([x, y, x, y])\n",
    "\n",
    "    def __eq__(self, other):\n",
    "        return self.x_min == other.x_min and self.y_min == other.y_min and self.x_max == other.x_max and self.y_max == other.y_max\n",
    "\n",
    "    def __le__(self, other):\n",
    "        return len(self) <= len(other)\n",
    "\n",
    "    def __lt__(self, other):\n",
    "        return len(self) < len(other)\n",
    "\n",
    "    def __hash__(self):\n",
    "        return hash(repr(self))\n",
    "\n",
    "    def __str__(self):\n",
    "        return f\"({self.x_min}, {self.y_min}) -> ({self.x_max}, {self.y_max}): \" + (\"straight\" if self.is_straight() else \"not straight\")"
   ],
   "metadata": {
    "collapsed": false,
    "pycharm": {
     "is_executing": true
    }
   }
  },
  {
   "cell_type": "code",
   "execution_count": null,
   "outputs": [],
   "source": [
    "def convert_diag_to_xy(gap, poss1):\n",
    "    MAX = float('inf')\n",
    "    MIN = float('-inf')\n",
    "    x_min = MAX\n",
    "    x_max = MIN\n",
    "    y_min = MAX\n",
    "    y_max = MIN\n",
    "    for i, pos1 in enumerate(poss1):\n",
    "        pos2 = pos1 + gap\n",
    "        x_min = min(x_min, pos1)\n",
    "        x_max = max(x_max, pos1)\n",
    "        y_min = min(y_min, pos2)\n",
    "        y_max = max(y_max, pos2)\n",
    "    return x_min, y_min, x_max, y_max\n",
    "\n",
    "def get_top_10(dist, diagonal_min_length=5):\n",
    "    res = sorted(dist)\n",
    "    res_1 = []\n",
    "    for i in range(len(res)):\n",
    "        if len(res[i]) >= 2 * diagonal_min_length:\n",
    "            res_1.append(res[i])\n",
    "    return res_1[:10:-1]"
   ],
   "metadata": {
    "collapsed": false,
    "pycharm": {
     "is_executing": true
    }
   }
  },
  {
   "cell_type": "code",
   "execution_count": null,
   "outputs": [],
   "source": [
    "def find_best_for_diag(diag_scores_old, gap):\n",
    "    concatted = False\n",
    "    diag_scores_new = {}\n",
    "    diag_scores = deepcopy(diag_scores_old)\n",
    "    for d1 in diag_scores:\n",
    "        MAX = float('-inf')\n",
    "        best_d2 = None\n",
    "        for d2 in diag_scores:\n",
    "            if not d1.__eq__(d2) and d2.x_min >= d1.x_min and d2.y_min >= d1.y_min:\n",
    "                # чтобы вторая диагоналей была не выше и не левее первой\n",
    "                if d2.x_min  <= d1.x_max:\n",
    "                    dist = d2.y_min - d1.y_min\n",
    "                elif d2.y_min <= d1.y_max:\n",
    "                    dist = d2.x_min - d1.x_min\n",
    "                else:\n",
    "                    dist = d2.y_min - d1.y_max + d2.x_min - d1.x_max\n",
    "                res = diag_scores[d1] + diag_scores[d2] + dist * gap\n",
    "                if res > diag_scores[d1] and res > diag_scores[d2] and res > MAX:\n",
    "                    MAX = res\n",
    "                    best_d2 = d2\n",
    "\n",
    "        if best_d2 is not None:\n",
    "            diag_scores_new[best_d2] = float('-inf')\n",
    "            diag_scores_new[d1] = float('-inf')\n",
    "            concatted = True\n",
    "            diag_scores_new[(d1 + best_d2)] = MAX\n",
    "        else:\n",
    "            diag_scores_new[d1] = diag_scores[d1]\n",
    "    return concatted, diag_scores_new"
   ],
   "metadata": {
    "collapsed": false,
    "pycharm": {
     "is_executing": true
    }
   }
  },
  {
   "cell_type": "code",
   "execution_count": null,
   "outputs": [],
   "source": [
    "def read_fasta(path):\n",
    "    res = {}\n",
    "    s1_name, s1 = '', ''\n",
    "    f = open(path, 'r')\n",
    "    arr = f.read().split('>')\n",
    "    for s in arr:\n",
    "        ss = s.split('\\n')\n",
    "        sss = ''\n",
    "        for i in range(1, len(ss)):\n",
    "            sss += ss[i]\n",
    "        if ss[0] != '':\n",
    "            if len(s1_name) == 0:\n",
    "                s1_name = ss[0]\n",
    "                s1 = sss\n",
    "            else:\n",
    "                res[ss[0]] = sss\n",
    "    return s1_name, s1, res"
   ],
   "metadata": {
    "collapsed": false,
    "pycharm": {
     "is_executing": true
    }
   }
  },
  {
   "cell_type": "code",
   "execution_count": null,
   "outputs": [],
   "source": [
    "def get_best_diagonals_concatenation_with_scores(str1, str2, substr_len, gap, blosum_cf, diag_min_len):\n",
    "    map_1 = to_map(str1, substr_len)\n",
    "    map_2 = to_map(str2, substr_len)\n",
    "    diags = get_top_10(sub_maps_diff_pos(map_1, map_2), diagonal_min_length=diag_min_len)\n",
    "    diffs2 = []\n",
    "    blosum_matrix = bl.BLOSUM(62)\n",
    "    diag_scores = {}\n",
    "\n",
    "    for d1 in diags:\n",
    "        diag_scores[d1] = 0.0\n",
    "\n",
    "        for i in range(d1.x_max - d1.x_min):\n",
    "            len_1_diag = d1[i]\n",
    "            diag_scores[d1] += blosum_matrix[str1[len_1_diag.x_min] + str2[len_1_diag.y_min]]\n",
    "        if diag_scores[d1] < blosum_cf:\n",
    "            del diag_scores[d1]\n",
    "        else:\n",
    "            diffs2.append(d1)\n",
    "\n",
    "\n",
    "    concatted = True\n",
    "    while concatted:\n",
    "        concatted, diag_scores = find_best_for_diag(diag_scores, gap)\n",
    "\n",
    "    return diag_scores\n",
    "\n",
    "\n",
    "def find_best_score(diagonals_scores):\n",
    "    MAX_SCORE = float('-inf')\n",
    "    MAX_KEY = None\n",
    "    for keys in diagonals_scores:\n",
    "        if diagonals_scores[keys] > MAX_SCORE:\n",
    "            MAX_SCORE = diagonals_scores[keys]\n",
    "            MAX_KEY = keys\n",
    "    return MAX_KEY, MAX_SCORE\n",
    "\n",
    "def operate(seq1, seq2, substr_len, gap, blosum_cf, diag_min_len):\n",
    "    res = get_best_diagonals_concatenation_with_scores(seq1, seq2, substr_len, gap, blosum_cf, diag_min_len)\n",
    "    best_diag, best_score = find_best_score(res)\n",
    "    if best_diag is None:\n",
    "        return '', '', -100\n",
    "    s1_1, s2_1, s1_2, s2_2 = best_diag.to_positions()\n",
    "    return smith_waterman(seq1[s1_1 : s1_2 + 1], seq2[s2_1 : s2_2 + 1], gap_score=gap)\n",
    "\n",
    "def operate_for_multi(seq1, seq2, substr_len, gap, blosum_cf, diag_min_len, threshold_score, s2_name):\n",
    "    res = get_best_diagonals_concatenation_with_scores(seq1, seq2, substr_len, gap, blosum_cf, diag_min_len)\n",
    "    best_diag, best_score = find_best_score(res)\n",
    "    if best_diag is None:\n",
    "        return\n",
    "    s1_1, s2_1, s1_2, s2_2 = best_diag.to_positions()\n",
    "    al_1, al_2, score = smith_waterman(seq1[s1_1 : s1_2 + 1], seq2[s2_1 : s2_2 + 1], gap_score=gap)\n",
    "    if score >= threshold_score:\n",
    "                print(f\"\\tto { s2_name}\\n\\n\\t{al_1}\\n\\t{al_2}\\n\\t\\tScore:{score}\\n{'-' * 15}\")\n",
    "\n",
    "\n",
    "def operate_fasta(path, substr_len=2, gap=-10, blosum_cf=5, threshold_score=100, diag_min_len=5):\n",
    "    s1_name, s1, m = read_fasta(path)\n",
    "    print(s1_name)\n",
    "    for key in m:\n",
    "        if key != s1_name:\n",
    "            s2_name, s2 = key, m[key]\n",
    "            al_1, al_2, score = operate(s1, s2, substr_len, gap, blosum_cf, diag_min_len)\n",
    "            if score >= threshold_score:\n",
    "                print(f\"\\tto { s2_name}\\n\\n\\t{al_1}\\n\\t{al_2}\\n\\t\\tScore:{score}\\n{'-' * 15}\")\n",
    "\n",
    "\n",
    "def operate_fasta_multi(path, substr_len=2, gap=-10, blosum_cf=5, threshold_score=100, diag_min_len=5):\n",
    "    s1_name, s1, m = read_fasta(path)\n",
    "    print(s1_name)\n",
    "    pool = ThreadPool(processes=7)\n",
    "    for key in m:\n",
    "        if key != s1_name:\n",
    "            s2_name, s2 = key, m[key]\n",
    "            pool.apply_async(operate_for_multi, args=(s1, s2, substr_len, gap, blosum_cf, diag_min_len, threshold_score, s2_name)).get()"
   ],
   "metadata": {
    "collapsed": false,
    "pycharm": {
     "is_executing": true
    }
   }
  },
  {
   "cell_type": "code",
   "execution_count": null,
   "outputs": [],
   "source": [
    "start = datetime.now()\n",
    "operate_fasta('uniprot_sprot.fasta', substr_len=2, gap=-10, blosum_cf=5, threshold_score=300, diag_min_len=10)\n",
    "print((datetime.now() - start).seconds)"
   ],
   "metadata": {
    "collapsed": false,
    "pycharm": {
     "is_executing": true
    }
   }
  },
  {
   "cell_type": "code",
   "execution_count": null,
   "outputs": [],
   "source": [
    "start = datetime.now()\n",
    "operate_fasta_multi('uniprot_sprot.fasta', substr_len=2, gap=-10, blosum_cf=10, threshold_score=300, diag_min_len=10)\n",
    "print((datetime.now() - start).seconds)"
   ],
   "metadata": {
    "collapsed": false,
    "pycharm": {
     "is_executing": true
    }
   }
  },
  {
   "cell_type": "markdown",
   "source": [],
   "metadata": {
    "collapsed": false
   }
  }
 ],
 "metadata": {
  "kernelspec": {
   "display_name": "Python 3",
   "language": "python",
   "name": "python3"
  },
  "language_info": {
   "codemirror_mode": {
    "name": "ipython",
    "version": 2
   },
   "file_extension": ".py",
   "mimetype": "text/x-python",
   "name": "python",
   "nbconvert_exporter": "python",
   "pygments_lexer": "ipython2",
   "version": "2.7.6"
  }
 },
 "nbformat": 4,
 "nbformat_minor": 0
}
