{
 "cells": [
  {
   "cell_type": "code",
   "execution_count": 719,
   "metadata": {
    "collapsed": true
   },
   "outputs": [],
   "source": [
    "import string\n",
    "from copy import deepcopy\n",
    "from datetime import datetime\n",
    "\n",
    "import blosum as bl\n",
    "import numpy as np\n",
    "\n",
    "from threading import Thread\n",
    "\n",
    "from multiprocessing.pool import ThreadPool\n",
    "\n",
    "BLOSUM_MATRIX = bl.BLOSUM(62)\n",
    "MAX = float('inf')\n",
    "MIN = float('-inf')"
   ]
  },
  {
   "cell_type": "code",
   "execution_count": 720,
   "outputs": [],
   "source": [
    "def score_fun(a: str, b: str):\n",
    "    return BLOSUM_MATRIX[a + b]\n",
    "\n",
    "def smith_waterman(seq1: str, seq2: str, gap_score: int = -10):\n",
    "    m, n = len(seq1) + 1, len(seq2) + 1\n",
    "\n",
    "\n",
    "    matrix = np.zeros((m, n))\n",
    "    for i in range(1, m):\n",
    "        for j in range(1, n):\n",
    "            matrix[i][j] = max(matrix[i - 1][j - 1] + score_fun(seq1[i - 1], seq2[j - 1]),\n",
    "                               matrix[i - 1][j] + gap_score,\n",
    "                               matrix[i][j - 1] + gap_score,\n",
    "                               0)\n",
    "    aln1 = \"\"\n",
    "    aln2 = \"\"\n",
    "\n",
    "    max_pos = (0, 0)\n",
    "    for i in range(matrix.shape[0]):\n",
    "        for j in range(matrix.shape[1]):\n",
    "            if matrix[i][j] > matrix[max_pos[0]][max_pos[1]]:\n",
    "                max_pos = (i, j)\n",
    "\n",
    "    score = matrix[max_pos[0]][max_pos[1]]\n",
    "    i = max_pos[0]\n",
    "    j = max_pos[1]\n",
    "\n",
    "\n",
    "    while matrix[i][j] != 0 and (i > 0 or j > 0):\n",
    "        a, b = '-', '-'\n",
    "        # (A, B)\n",
    "        if i > 0 and j > 0 and matrix[i][j] == matrix[i - 1][j - 1] + score_fun(seq1[i - 1], seq2[j - 1]):\n",
    "            a = seq1[i - 1]\n",
    "            b = seq2[j - 1]\n",
    "            i -= 1\n",
    "            j -= 1\n",
    "\n",
    "        # (A, -)\n",
    "        elif i > 0 and matrix[i][j] == matrix[i - 1][j] + gap_score:\n",
    "            a = seq1[i - 1]\n",
    "            i -= 1\n",
    "\n",
    "        # (-, A)\n",
    "        elif j > 0 and matrix[i][j] == matrix[i][j - 1] + gap_score:\n",
    "            b = seq2[j - 1]\n",
    "            j -= 1\n",
    "\n",
    "        aln1 += a\n",
    "        aln2 += b\n",
    "    #\n",
    "    return aln1[::-1], aln2[::-1], score\n"
   ],
   "metadata": {
    "collapsed": false
   }
  },
  {
   "cell_type": "markdown",
   "source": [
    "Вход: слово длины 4 по дефолту но с изменением, нуклеотидные последовательности,\n",
    "ВЫход: упорядоченный список диагоналей с наибольшим числом совпадений\n",
    "сравнение индексов (длина слова, последовательности)"
   ],
   "metadata": {
    "collapsed": false
   }
  },
  {
   "cell_type": "code",
   "execution_count": 721,
   "outputs": [],
   "source": [
    "def to_map(seq: string, k: int):\n",
    "    dict = {}\n",
    "    for i in range(len(seq) - k + 1):\n",
    "        key = seq[i : i + k]\n",
    "        if dict.get(key) is None:\n",
    "            dict[key] = []\n",
    "        dict[key].append(i)\n",
    "    return dict"
   ],
   "metadata": {
    "collapsed": false
   }
  },
  {
   "cell_type": "code",
   "execution_count": 722,
   "outputs": [],
   "source": [
    "def convert_diag_to_xy(gap, poss1):\n",
    "    x_min = MAX\n",
    "    x_max = MIN\n",
    "    for i in poss1:\n",
    "        if i < x_min:\n",
    "            x_min = i\n",
    "        if i > x_max:\n",
    "            x_max = i\n",
    "    return Diag(x_min, x_min + gap, x_max, x_max + gap)\n",
    "\n",
    "def convert_to_straight_diag(gap, x_min, x_max):\n",
    "    return Diag(x_min, x_min + gap, x_max, x_max + gap)\n",
    "\n",
    "def max_min(li):\n",
    "    x_min = MAX\n",
    "    x_max = MIN\n",
    "    for i in li:\n",
    "        if i < x_min:\n",
    "            x_min = i\n",
    "        if i > x_max:\n",
    "            x_max = i\n",
    "    return x_max, x_min\n",
    "\n",
    "def convert_to_diag_point(pos_x, pos_y):\n",
    "    return Diag(pos_x, pos_y, pos_x, pos_y)\n",
    "\n",
    "def sub_maps_diff_pos(map_1, map_2, diag_min_len): # 'AA' - [1, 2, 3]\n",
    "    dist = {}\n",
    "    start = datetime.now()\n",
    "    for k1 in map_1.keys(): #k1 - 'AA'; val1 - [1, 2, 3]\n",
    "        if map_2.get(k1) is None:\n",
    "            continue\n",
    "        for pos1 in map_1[k1]:\n",
    "            for pos2 in map_2[k1]:\n",
    "                delta = pos2 - pos1\n",
    "                if dist.get(delta) is None:\n",
    "                    dist[delta] = []\n",
    "                dist[delta].append(pos1)\n",
    "\n",
    "    # print((datetime.now()-start).microseconds)\n",
    "    start = datetime.now()\n",
    "    # тут медленнее\n",
    "    res = []\n",
    "    # res = [convert_diag_to_xy(gap, dist[gap]) for gap in dist.keys() if max_min(dist[gap]) >= diag_min_len]\n",
    "    for gap in dist.keys():\n",
    "        x_max, x_min = max_min(dist[gap])\n",
    "        if x_max - x_min >= diag_min_len:\n",
    "            res.append(convert_to_straight_diag(gap, x_min, x_max))\n",
    "        # d = convert_diag_to_xy(gap, dist[gap])\n",
    "        # if len(d) >= diag_min_len:\n",
    "        #     res.append(d)\n",
    "    # print((datetime.now()-start).microseconds)\n",
    "    # print()\n",
    "\n",
    "    return res"
   ],
   "metadata": {
    "collapsed": false
   }
  },
  {
   "cell_type": "code",
   "execution_count": 723,
   "outputs": [],
   "source": [
    "def convert_to_matrix(diffs, n1, n2):\n",
    "    res = np.zeros((n1, n2))\n",
    "    for gap in diffs:\n",
    "        for i, pos1 in enumerate(diffs[gap]):\n",
    "            pos2 = pos1 + gap\n",
    "            res[pos1][pos2] = 1\n",
    "    return res"
   ],
   "metadata": {
    "collapsed": false
   }
  },
  {
   "cell_type": "code",
   "execution_count": 724,
   "outputs": [],
   "source": [
    "class Diag:\n",
    "    def is_straight(self):\n",
    "        return (self.y_max - self.y_min) == (self.x_max - self.x_min)\n",
    "\n",
    "    def __init__(self, x_min, y_min, x_max, y_max):\n",
    "        self.x_min = x_min\n",
    "        self.y_min = y_min\n",
    "        self.x_max = x_max\n",
    "        self.y_max = y_max\n",
    "\n",
    "    def __add__(self, diag):\n",
    "        return Diag(min(self.x_min, diag.x_min), min(self.y_min, diag.y_min), max(diag.x_max, self.x_max), max(diag.y_max, self.y_max))\n",
    "\n",
    "    def __len__(self):\n",
    "        return self.x_max - self.x_min + self.y_max - self.y_min\n",
    "\n",
    "    def to_positions(self):\n",
    "        return self.x_min, self.y_min, self.x_max, self.y_max\n",
    "\n",
    "    def __getitem__(self, item):\n",
    "        x = self.x_min + item\n",
    "        y = self.y_min + item\n",
    "        if x > self.x_max or y > self.y_max:\n",
    "            raise KeyError\n",
    "        return Diag(x, y, x, y)\n",
    "\n",
    "    def __eq__(self, other):\n",
    "        return self.x_min == other.x_min and self.y_min == other.y_min and self.x_max == other.x_max and self.y_max == other.y_max\n",
    "\n",
    "    def __le__(self, other):\n",
    "        return len(self) <= len(other)\n",
    "\n",
    "    def __lt__(self, other):\n",
    "        return len(self) < len(other)\n",
    "\n",
    "    def __hash__(self):\n",
    "        return hash(repr(self))\n",
    "\n",
    "    def __str__(self):\n",
    "        return f\"({self.x_min}, {self.y_min}) -> ({self.x_max}, {self.y_max}): \" + (\"straight\" if self.is_straight() else \"not straight\")"
   ],
   "metadata": {
    "collapsed": false
   }
  },
  {
   "cell_type": "code",
   "execution_count": 725,
   "outputs": [],
   "source": [
    "def get_top_10(dist):\n",
    "    res = sorted(dist)\n",
    "    return (res[::-1])[:10]"
   ],
   "metadata": {
    "collapsed": false
   }
  },
  {
   "cell_type": "code",
   "execution_count": 726,
   "outputs": [],
   "source": [
    "def find_best_for_diag(diag_scores, gap):\n",
    "    concatted = False\n",
    "    diag_scores_new = {}\n",
    "    # diag_scores = deepcopy(diag_scores_old)\n",
    "    for d1 in diag_scores:\n",
    "        maximum = MIN\n",
    "        best_d2 = None\n",
    "        for d2 in diag_scores:\n",
    "            if not d1.__eq__(d2) and d2.x_min >= d1.x_min and d2.y_min >= d1.y_min:\n",
    "                # чтобы вторая диагоналей была не выше и не левее первой\n",
    "                if d2.x_min  <= d1.x_max:\n",
    "                    dist = d2.y_min - d1.y_min\n",
    "                elif d2.y_min <= d1.y_max:\n",
    "                    dist = d2.x_min - d1.x_min\n",
    "                else:\n",
    "                    dist = d2.y_min - d1.y_max + d2.x_min - d1.x_max\n",
    "                res = diag_scores[d1] + diag_scores[d2] + dist * gap\n",
    "                if res > diag_scores[d1] and res > diag_scores[d2] and res > maximum:\n",
    "                    maximum = res\n",
    "                    best_d2 = d2\n",
    "\n",
    "        if best_d2 is not None:\n",
    "            diag_scores_new[best_d2] = float('-inf')\n",
    "            diag_scores_new[d1] = float('-inf')\n",
    "            concatted = True\n",
    "            diag_scores_new[(d1 + best_d2)] = MAX\n",
    "        else:\n",
    "            diag_scores_new[d1] = diag_scores[d1]\n",
    "    return concatted, diag_scores_new"
   ],
   "metadata": {
    "collapsed": false
   }
  },
  {
   "cell_type": "code",
   "execution_count": 727,
   "outputs": [],
   "source": [
    "def read_fasta(path):\n",
    "    res = {}\n",
    "    s1_name, s1 = '', ''\n",
    "    f = open(path, 'r')\n",
    "    arr = f.read().split('>')\n",
    "    for s in arr:\n",
    "        ss = s.split('\\n')\n",
    "        sss = ''\n",
    "        for i in range(1, len(ss)):\n",
    "            sss += ss[i]\n",
    "        if ss[0] != '':\n",
    "            if len(s1_name) == 0:\n",
    "                s1_name = ss[0]\n",
    "                s1 = sss\n",
    "            else:\n",
    "                res[ss[0]] = sss\n",
    "    return s1_name, s1, res"
   ],
   "metadata": {
    "collapsed": false
   }
  },
  {
   "cell_type": "code",
   "execution_count": 728,
   "outputs": [],
   "source": [
    "def get_best_diagonals_concatenation_with_scores(str1, str2, substr_len, gap, blosum_cf, diag_min_len, map_1):\n",
    "\n",
    "    map_2 = to_map(str2, substr_len)\n",
    "\n",
    "    sub_maps = sub_maps_diff_pos(map_1, map_2, diag_min_len=diag_min_len) # тут медленнее\n",
    "\n",
    "    diags = get_top_10(sub_maps) # тут тоже не быстро\n",
    "\n",
    "    diag_scores = {}\n",
    "\n",
    "    for d1 in diags:\n",
    "        diag_scores[d1] = 0.0\n",
    "\n",
    "        for i in range(d1.x_max - d1.x_min):\n",
    "            len_1_diag = d1[i]\n",
    "            diag_scores[d1] += BLOSUM_MATRIX[str1[len_1_diag.x_min] + str2[len_1_diag.y_min]]\n",
    "        if diag_scores[d1] < blosum_cf:\n",
    "            del diag_scores[d1]\n",
    "\n",
    "    concatted = True\n",
    "    while concatted:\n",
    "        concatted, diag_scores = find_best_for_diag(diag_scores, gap)\n",
    "\n",
    "    return diag_scores\n",
    "\n",
    "\n",
    "def find_best_score(diagonals_scores):\n",
    "    max_score = MIN\n",
    "    max_key = None\n",
    "    for keys in diagonals_scores:\n",
    "        if diagonals_scores[keys] > max_score:\n",
    "            max_score = diagonals_scores[keys]\n",
    "            max_key = keys\n",
    "    return max_key, max_score\n",
    "\n",
    "def operate(seq1, seq2, substr_len, gap, blosum_cf, diag_min_len, map_1):\n",
    "    res = get_best_diagonals_concatenation_with_scores(seq1, seq2, substr_len, gap, blosum_cf, diag_min_len, map_1) #тут медленнее\n",
    "    best_diag, best_score = find_best_score(res)\n",
    "    if best_diag is None:\n",
    "        return '', '', -100\n",
    "    s1_1, s2_1, s1_2, s2_2 = best_diag.to_positions()\n",
    "    return smith_waterman(seq1[s1_1 : s1_2 + 1], seq2[s2_1 : s2_2 + 1], gap_score=gap)\n",
    "\n",
    "def operate_for_multi(seq1, seq2, substr_len, gap, blosum_cf, diag_min_len, threshold_score, s2_name, map_1):\n",
    "    res = get_best_diagonals_concatenation_with_scores(seq1, seq2, substr_len, gap, blosum_cf, diag_min_len, map_1)\n",
    "    best_diag, best_score = find_best_score(res)\n",
    "    if best_diag is None:\n",
    "        return\n",
    "    s1_1, s2_1, s1_2, s2_2 = best_diag.to_positions()\n",
    "    al_1, al_2, score = smith_waterman(seq1[s1_1 : s1_2 + 1], seq2[s2_1 : s2_2 + 1], gap_score=gap)\n",
    "    if score >= threshold_score:\n",
    "        print(f\"\\tto { s2_name}\\n\\n\\t{al_1}\\n\\t{al_2}\\n\\t\\tScore:{score}\\n{'-' * 15}\")\n",
    "\n",
    "\n",
    "def operate_fasta(path, substr_len=2, gap=-10, blosum_cf=5, threshold_score=100, diag_min_len=5):\n",
    "    s1_name, s1, m = read_fasta(path)\n",
    "\n",
    "    map_1 = to_map(s1, substr_len)\n",
    "    print(s1_name)\n",
    "    for key in m:\n",
    "        start = datetime.now()\n",
    "        if key != s1_name:\n",
    "            s2_name, s2 = key, m[key]\n",
    "            al_1, al_2, score = operate(s1, s2, substr_len, gap, blosum_cf, diag_min_len, map_1)\n",
    "            if score >= threshold_score:\n",
    "                print(f\"\\tto { s2_name}\\n\\n\\t{al_1}\\n\\t{al_2}\\n\\t\\tScore:{score}\\n{'-' * 15}\")\n",
    "        # print((datetime.now() - start).microseconds / 1000000 * len(m) / 60)\n",
    "\n",
    "\n",
    "\n",
    "def operate_fasta_multi(path, substr_len=2, gap=-10, blosum_cf=5, threshold_score=100, diag_min_len=5):\n",
    "    s1_name, s1, m = read_fasta(path)\n",
    "    map_1 = to_map(s1, substr_len)\n",
    "\n",
    "    print(s1_name)\n",
    "    pool = ThreadPool(processes=7)\n",
    "    for key in m:\n",
    "\n",
    "        start = datetime.now()\n",
    "        if key != s1_name:\n",
    "            s2_name, s2 = key, m[key]\n",
    "            pool.apply_async(operate_for_multi, args=(s1, s2, substr_len, gap, blosum_cf, diag_min_len, threshold_score, s2_name, map_1)).get()\n",
    "\n",
    "        # print((datetime.now() - start).microseconds / 1000)"
   ],
   "metadata": {
    "collapsed": false
   }
  },
  {
   "cell_type": "code",
   "execution_count": 729,
   "outputs": [
    {
     "name": "stdout",
     "output_type": "stream",
     "text": [
      "sp|Q6GZX4|001R_FRG3G Putative transcription factor 001R OS=Frog virus 3 (isolate Goorha) OX=654924 GN=FV3-001R PE=4 SV=1\n"
     ]
    },
    {
     "ename": "KeyboardInterrupt",
     "evalue": "",
     "output_type": "error",
     "traceback": [
      "\u001B[0;31m---------------------------------------------------------------------------\u001B[0m",
      "\u001B[0;31mKeyboardInterrupt\u001B[0m                         Traceback (most recent call last)",
      "Cell \u001B[0;32mIn[729], line 2\u001B[0m\n\u001B[1;32m      1\u001B[0m start \u001B[38;5;241m=\u001B[39m datetime\u001B[38;5;241m.\u001B[39mnow()\n\u001B[0;32m----> 2\u001B[0m \u001B[43moperate_fasta\u001B[49m\u001B[43m(\u001B[49m\u001B[38;5;124;43m'\u001B[39;49m\u001B[38;5;124;43muniprot_sprot.fasta\u001B[39;49m\u001B[38;5;124;43m'\u001B[39;49m\u001B[43m,\u001B[49m\u001B[43m \u001B[49m\u001B[43msubstr_len\u001B[49m\u001B[38;5;241;43m=\u001B[39;49m\u001B[38;5;241;43m2\u001B[39;49m\u001B[43m,\u001B[49m\u001B[43m \u001B[49m\u001B[43mgap\u001B[49m\u001B[38;5;241;43m=\u001B[39;49m\u001B[38;5;241;43m-\u001B[39;49m\u001B[38;5;241;43m10\u001B[39;49m\u001B[43m,\u001B[49m\u001B[43m \u001B[49m\u001B[43mblosum_cf\u001B[49m\u001B[38;5;241;43m=\u001B[39;49m\u001B[38;5;241;43m10\u001B[39;49m\u001B[43m,\u001B[49m\u001B[43m \u001B[49m\u001B[43mthreshold_score\u001B[49m\u001B[38;5;241;43m=\u001B[39;49m\u001B[38;5;241;43m100\u001B[39;49m\u001B[43m,\u001B[49m\u001B[43m \u001B[49m\u001B[43mdiag_min_len\u001B[49m\u001B[38;5;241;43m=\u001B[39;49m\u001B[38;5;241;43m10\u001B[39;49m\u001B[43m)\u001B[49m\n\u001B[1;32m      3\u001B[0m \u001B[38;5;28mprint\u001B[39m((datetime\u001B[38;5;241m.\u001B[39mnow() \u001B[38;5;241m-\u001B[39m start)\u001B[38;5;241m.\u001B[39mseconds)\n",
      "Cell \u001B[0;32mIn[728], line 64\u001B[0m, in \u001B[0;36moperate_fasta\u001B[0;34m(path, substr_len, gap, blosum_cf, threshold_score, diag_min_len)\u001B[0m\n\u001B[1;32m     62\u001B[0m \u001B[38;5;28;01mif\u001B[39;00m key \u001B[38;5;241m!=\u001B[39m s1_name:\n\u001B[1;32m     63\u001B[0m     s2_name, s2 \u001B[38;5;241m=\u001B[39m key, m[key]\n\u001B[0;32m---> 64\u001B[0m     al_1, al_2, score \u001B[38;5;241m=\u001B[39m \u001B[43moperate\u001B[49m\u001B[43m(\u001B[49m\u001B[43ms1\u001B[49m\u001B[43m,\u001B[49m\u001B[43m \u001B[49m\u001B[43ms2\u001B[49m\u001B[43m,\u001B[49m\u001B[43m \u001B[49m\u001B[43msubstr_len\u001B[49m\u001B[43m,\u001B[49m\u001B[43m \u001B[49m\u001B[43mgap\u001B[49m\u001B[43m,\u001B[49m\u001B[43m \u001B[49m\u001B[43mblosum_cf\u001B[49m\u001B[43m,\u001B[49m\u001B[43m \u001B[49m\u001B[43mdiag_min_len\u001B[49m\u001B[43m,\u001B[49m\u001B[43m \u001B[49m\u001B[43mmap_1\u001B[49m\u001B[43m)\u001B[49m\n\u001B[1;32m     65\u001B[0m     \u001B[38;5;28;01mif\u001B[39;00m score \u001B[38;5;241m>\u001B[39m\u001B[38;5;241m=\u001B[39m threshold_score:\n\u001B[1;32m     66\u001B[0m         \u001B[38;5;28mprint\u001B[39m(\u001B[38;5;124mf\u001B[39m\u001B[38;5;124m\"\u001B[39m\u001B[38;5;130;01m\\t\u001B[39;00m\u001B[38;5;124mto \u001B[39m\u001B[38;5;132;01m{\u001B[39;00m s2_name\u001B[38;5;132;01m}\u001B[39;00m\u001B[38;5;130;01m\\n\u001B[39;00m\u001B[38;5;130;01m\\n\u001B[39;00m\u001B[38;5;130;01m\\t\u001B[39;00m\u001B[38;5;132;01m{\u001B[39;00mal_1\u001B[38;5;132;01m}\u001B[39;00m\u001B[38;5;130;01m\\n\u001B[39;00m\u001B[38;5;130;01m\\t\u001B[39;00m\u001B[38;5;132;01m{\u001B[39;00mal_2\u001B[38;5;132;01m}\u001B[39;00m\u001B[38;5;130;01m\\n\u001B[39;00m\u001B[38;5;130;01m\\t\u001B[39;00m\u001B[38;5;130;01m\\t\u001B[39;00m\u001B[38;5;124mScore:\u001B[39m\u001B[38;5;132;01m{\u001B[39;00mscore\u001B[38;5;132;01m}\u001B[39;00m\u001B[38;5;130;01m\\n\u001B[39;00m\u001B[38;5;132;01m{\u001B[39;00m\u001B[38;5;124m'\u001B[39m\u001B[38;5;124m-\u001B[39m\u001B[38;5;124m'\u001B[39m \u001B[38;5;241m*\u001B[39m \u001B[38;5;241m15\u001B[39m\u001B[38;5;132;01m}\u001B[39;00m\u001B[38;5;124m\"\u001B[39m)\n",
      "Cell \u001B[0;32mIn[728], line 37\u001B[0m, in \u001B[0;36moperate\u001B[0;34m(seq1, seq2, substr_len, gap, blosum_cf, diag_min_len, map_1)\u001B[0m\n\u001B[1;32m     36\u001B[0m \u001B[38;5;28;01mdef\u001B[39;00m \u001B[38;5;21moperate\u001B[39m(seq1, seq2, substr_len, gap, blosum_cf, diag_min_len, map_1):\n\u001B[0;32m---> 37\u001B[0m     res \u001B[38;5;241m=\u001B[39m \u001B[43mget_best_diagonals_concatenation_with_scores\u001B[49m\u001B[43m(\u001B[49m\u001B[43mseq1\u001B[49m\u001B[43m,\u001B[49m\u001B[43m \u001B[49m\u001B[43mseq2\u001B[49m\u001B[43m,\u001B[49m\u001B[43m \u001B[49m\u001B[43msubstr_len\u001B[49m\u001B[43m,\u001B[49m\u001B[43m \u001B[49m\u001B[43mgap\u001B[49m\u001B[43m,\u001B[49m\u001B[43m \u001B[49m\u001B[43mblosum_cf\u001B[49m\u001B[43m,\u001B[49m\u001B[43m \u001B[49m\u001B[43mdiag_min_len\u001B[49m\u001B[43m,\u001B[49m\u001B[43m \u001B[49m\u001B[43mmap_1\u001B[49m\u001B[43m)\u001B[49m \u001B[38;5;66;03m#тут медленнее\u001B[39;00m\n\u001B[1;32m     38\u001B[0m     best_diag, best_score \u001B[38;5;241m=\u001B[39m find_best_score(res)\n\u001B[1;32m     39\u001B[0m     \u001B[38;5;28;01mif\u001B[39;00m best_diag \u001B[38;5;129;01mis\u001B[39;00m \u001B[38;5;28;01mNone\u001B[39;00m:\n",
      "Cell \u001B[0;32mIn[728], line 15\u001B[0m, in \u001B[0;36mget_best_diagonals_concatenation_with_scores\u001B[0;34m(str1, str2, substr_len, gap, blosum_cf, diag_min_len, map_1)\u001B[0m\n\u001B[1;32m     12\u001B[0m diag_scores[d1] \u001B[38;5;241m=\u001B[39m \u001B[38;5;241m0.0\u001B[39m\n\u001B[1;32m     14\u001B[0m \u001B[38;5;28;01mfor\u001B[39;00m i \u001B[38;5;129;01min\u001B[39;00m \u001B[38;5;28mrange\u001B[39m(d1\u001B[38;5;241m.\u001B[39mx_max \u001B[38;5;241m-\u001B[39m d1\u001B[38;5;241m.\u001B[39mx_min):\n\u001B[0;32m---> 15\u001B[0m     len_1_diag \u001B[38;5;241m=\u001B[39m \u001B[43md1\u001B[49m\u001B[43m[\u001B[49m\u001B[43mi\u001B[49m\u001B[43m]\u001B[49m\n\u001B[1;32m     16\u001B[0m     diag_scores[d1] \u001B[38;5;241m+\u001B[39m\u001B[38;5;241m=\u001B[39m BLOSUM_MATRIX[str1[len_1_diag\u001B[38;5;241m.\u001B[39mx_min] \u001B[38;5;241m+\u001B[39m str2[len_1_diag\u001B[38;5;241m.\u001B[39my_min]]\n\u001B[1;32m     17\u001B[0m \u001B[38;5;28;01mif\u001B[39;00m diag_scores[d1] \u001B[38;5;241m<\u001B[39m blosum_cf:\n",
      "Cell \u001B[0;32mIn[724], line 25\u001B[0m, in \u001B[0;36mDiag.__getitem__\u001B[0;34m(self, item)\u001B[0m\n\u001B[1;32m     23\u001B[0m \u001B[38;5;28;01mif\u001B[39;00m x \u001B[38;5;241m>\u001B[39m \u001B[38;5;28mself\u001B[39m\u001B[38;5;241m.\u001B[39mx_max \u001B[38;5;129;01mor\u001B[39;00m y \u001B[38;5;241m>\u001B[39m \u001B[38;5;28mself\u001B[39m\u001B[38;5;241m.\u001B[39my_max:\n\u001B[1;32m     24\u001B[0m     \u001B[38;5;28;01mraise\u001B[39;00m \u001B[38;5;167;01mKeyError\u001B[39;00m\n\u001B[0;32m---> 25\u001B[0m \u001B[38;5;28;01mreturn\u001B[39;00m \u001B[43mDiag\u001B[49m\u001B[43m(\u001B[49m\u001B[43mx\u001B[49m\u001B[43m,\u001B[49m\u001B[43m \u001B[49m\u001B[43my\u001B[49m\u001B[43m,\u001B[49m\u001B[43m \u001B[49m\u001B[43mx\u001B[49m\u001B[43m,\u001B[49m\u001B[43m \u001B[49m\u001B[43my\u001B[49m\u001B[43m)\u001B[49m\n",
      "\u001B[0;31mKeyboardInterrupt\u001B[0m: "
     ]
    }
   ],
   "source": [
    "start = datetime.now()\n",
    "operate_fasta('uniprot_sprot.fasta', substr_len=2, gap=-10, blosum_cf=10, threshold_score=100, diag_min_len=10)\n",
    "print((datetime.now() - start).seconds)"
   ],
   "metadata": {
    "collapsed": false
   }
  },
  {
   "cell_type": "code",
   "execution_count": null,
   "outputs": [],
   "source": [
    "start = datetime.now()\n",
    "operate_fasta_multi('uniprot_sprot.fasta', substr_len=2, gap=-10, blosum_cf=5, threshold_score=100, diag_min_len=10)\n",
    "print((datetime.now() - start).seconds)"
   ],
   "metadata": {
    "collapsed": false
   }
  },
  {
   "cell_type": "markdown",
   "source": [],
   "metadata": {
    "collapsed": false
   }
  }
 ],
 "metadata": {
  "kernelspec": {
   "display_name": "Python 3",
   "language": "python",
   "name": "python3"
  },
  "language_info": {
   "codemirror_mode": {
    "name": "ipython",
    "version": 2
   },
   "file_extension": ".py",
   "mimetype": "text/x-python",
   "name": "python",
   "nbconvert_exporter": "python",
   "pygments_lexer": "ipython2",
   "version": "2.7.6"
  }
 },
 "nbformat": 4,
 "nbformat_minor": 0
}
